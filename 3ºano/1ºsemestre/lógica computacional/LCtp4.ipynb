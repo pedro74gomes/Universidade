{
  "nbformat": 4,
  "nbformat_minor": 0,
  "metadata": {
    "colab": {
      "name": "LCtp4.ipynb",
      "provenance": [],
      "collapsed_sections": []
    },
    "kernelspec": {
      "name": "python3",
      "display_name": "Python 3"
    },
    "language_info": {
      "name": "python"
    }
  },
  "cells": [
    {
      "cell_type": "markdown",
      "source": [
        "#Trabalho 4\n",
        "Pedro Gomes a91647  \n",
        "Francisco Teófilo a93741"
      ],
      "metadata": {
        "id": "apvVRqk8lOaV"
      }
    },
    {
      "cell_type": "code",
      "execution_count": 29,
      "metadata": {
        "colab": {
          "base_uri": "https://localhost:8080/",
          "height": 0
        },
        "id": "iiaMaOQvke9H",
        "outputId": "7a7a4568-848f-47d7-db85-5a02e756478f"
      },
      "outputs": [
        {
          "output_type": "stream",
          "name": "stdout",
          "text": [
            "Requirement already satisfied: z3-solver in /usr/local/lib/python3.7/dist-packages (4.8.14.0)\n"
          ]
        }
      ],
      "source": [
        "!pip install z3-solver"
      ]
    },
    {
      "cell_type": "code",
      "source": [
        "from z3 import *\n",
        "import sys, os\n",
        "import matplotlib.pyplot as plt"
      ],
      "metadata": {
        "id": "MBycXRR2kq5X"
      },
      "execution_count": 30,
      "outputs": []
    },
    {
      "cell_type": "markdown",
      "source": [
        "Considerando o programa para multiplicação de dois inteiros de precisão limitada a 16 bits.   \n",
        "**Programa:**\n",
        "```py\n",
        "   assume m >= 0 and n >= 0 and r == 0 and x == m and y == n \n",
        "0: while y > 0:\n",
        "1:    if y & 1 == 1: \n",
        "          y , r  = y-1 , r+x\n",
        "2:    x , y = x<<1  ,  y>>1\n",
        "3: assert r == m * n\n",
        "```\n",
        "\n",
        "\n"
      ],
      "metadata": {
        "id": "W2yJ9azXky7R"
      }
    },
    {
      "cell_type": "markdown",
      "source": [
        "##**1.   Queremos provar por indução a sua terminação.**\n",
        "\n",
        "\n"
      ],
      "metadata": {
        "id": "t86SoyjSlov1"
      }
    },
    {
      "cell_type": "markdown",
      "source": [
        "Realizamos a prova por indução com o `lookahead`.  \n",
        "Definimos o variante do programa como:$$V(\\alpha_i)\\equiv y_i$$\n",
        "Utilizando indução com um lookahead de $l$, queremos então provar, para um dado traço $\\alpha = \\{ \\alpha_i \\; | \\; i = 0, 1, \\dots, k-1 \\}$ de um FOTS, que o programa termina (ou seja, a variável $\\mathtt{pc}$ vai tomar o valor $3$).  \n",
        "\n",
        "Este traço é gerado da seguinte forma: $$\\alpha \\equiv \\mathtt{init} (\\alpha_0) \\; \\wedge \\; \\forall_{i \\in \\{ 0, 1, \\, \\dots \\, , k - 2 \\}}, \\;  \\mathtt{trans} (\\alpha_i, \\alpha_{i+1})$$\n",
        "\n",
        "Para que se verifique isto, as seguintes propriedades têm de ser verificadas:\n",
        "\n",
        "* **Positivo:** $\\; \\forall_{i}. \\alpha_i \\in \\alpha, \\; V_i (\\alpha) \\ge 0$\n",
        "* **Decrescente:** $\\; \\forall_{i}. \\alpha_i \\in \\left( \\alpha \\setminus \\alpha_{k-1} \\right), \\; V (\\alpha_{i+l}) < V (\\alpha_i) $\n",
        "\n",
        "* **Útil:** $\\; V (\\alpha_i) = 0 \\rightarrow \\left( \\; \\mathtt{pc}_{i+l} = 3 \\; \\right) $\n",
        "\n",
        "**Implementação indução com lookahead:**\n",
        "\n",
        "\n",
        "\n"
      ],
      "metadata": {
        "id": "GaTm4sVkmPM1"
      }
    },
    {
      "cell_type": "code",
      "source": [
        "def inducao_always(declare, init, trans, var, prop, l, bits=16):\n",
        "    # Declarar o traço\n",
        "    solver = Solver()\n",
        "    traco = {i: declare(i, bits) for i in range(2)}\n",
        "    \n",
        "    # Testar caso de base\n",
        "    solver.add(init(traco[0]))\n",
        "    solver.add(Not(var(traco[0], trans, l)))\n",
        "    \n",
        "    if solver.check() == sat:\n",
        "        print(\"inducao breaks down no traco  inicial.\")\n",
        "        m = solver.model()\n",
        "        \n",
        "        for v in traco[0]:\n",
        "            print(v, \"=\", m[traco[0][v]])\n",
        "        return\n",
        "    elif solver.check() != unsat:\n",
        "        return\n",
        "\n",
        "    # Testar caso indutivo\n",
        "    solver = Solver()\n",
        "    solver.add(var(traco[0], trans, l))\n",
        "    solver.add(Not(var(traco[0], trans, l)))\n",
        "    \n",
        "    if solver.check() == sat:\n",
        "        print(\"inducao breaks down no traco indutivo.\")\n",
        "        m = solver.model()\n",
        "        \n",
        "        for v in traco[0]:\n",
        "            print(v, \"=\", m[traco[0][v]])\n",
        "        return\n",
        "    elif solver.check() == unsat:\n",
        "        print(f\"A propriedade \\\"{prop}\\\" é válida.\")"
      ],
      "metadata": {
        "id": "NVWQ2OMiuTXK"
      },
      "execution_count": 31,
      "outputs": []
    },
    {
      "cell_type": "markdown",
      "source": [
        "Definimos então a geração do traço da seguinte forma:  \n",
        "$ \\mathtt{init}(\\alpha_i) \\; \\equiv \\; \\mathtt{pc}_i = 0 \\; \\wedge \\; r_i = 0 \\; \\wedge \\; m_i \\ge 0 \\; \\wedge \\; n_i \\ge 0 \\; \\wedge \\; x_i = m_i \\; \\wedge \\; y_i = n_i $\n",
        "\n",
        "$ \\mathtt{trans}_0(\\alpha_i, \\alpha_{i+1}) \\; \\equiv \\; \\left[ \\mathtt{pc}_i = 0 \\; \\wedge \\; y_i > 0 \\; \\wedge \\; x_{i+1} = x \\; \\wedge \\; y_{i+1} = y \\; \\wedge \\; m_{i+1} = m_i \\; \\wedge \\; n_{i+1} = n_i \\; \\wedge \\; r_{i+1} = r_i \\; \\wedge \\; \\mathtt{pc}_{i+1} = 1 \\right]$   \n",
        "$$\\vee \\left[ \\mathtt{pc}_i = 0 \\; \\wedge \\; y_i \\le 0 \\; \\wedge \\; x_{i+1} = x \\; \\wedge \n",
        "\\; y_{i+1} = y \\; \\wedge \\; m_{i+1} = m_i \\; \\wedge \\; n_{i+1} = n_i \\; \\wedge \\; r_{i+1} = r_i \\; \\wedge \\; \\mathtt{pc}_{i+1} = 3 \\right]$$\n",
        "\n",
        "$ \\mathtt{trans}_1(\\alpha_i, \\alpha_{i+1}) \\; \\equiv \\; \\left[ \\mathtt{pc}_i = 1 \\; \\wedge \\; y_i \\& 1 = 1 \\; \\wedge \\; x_{i+1} = x \\; \\wedge \\; y_{i+1} = y_i-1 \\; \\wedge \\; m_{i+1} = m_i \\; \\wedge \\; n_{i+1} = n_i \\; \\wedge \\; r_{i+1} = r_i + x_i \\; \\wedge \\; \\mathtt{pc}_{i+1} = 2 \\right]$ $$\\vee \\left[ \\mathtt{pc}_i = 1 \\; \\wedge \\; y_i \\& 1  eq 1 \\; \\wedge \\; x_{i+1} = x \\; \\wedge \\; y_{i+1} = y_i \\; \\wedge \\; m_{i+1} = m_i \\; \\wedge \\; n_{i+1} = n_i \\; \\wedge \\; r_{i+1} = r_i \\; \\wedge \\; \\mathtt{pc}_{i+1} = 2 \\right] $$\n",
        "\n",
        "$ \\mathtt{trans}_2(\\alpha_i, \\alpha_{i+1}) \\; \\equiv \\; \\mathtt{pc}_i = 2 \\; \\wedge \\; x_{i+1} = x_i \\gg 1 \\; \\wedge \\; y_{i+1} = y_i \\ll 1 \\; \\wedge \\; m_{i+1} = m_i \\; \\wedge \\; n_{i+1} = n_i \\; \\wedge \\; r_{i+1} = r_i \\; \\wedge \\; \\mathtt{pc}_{i+1} = 0 $\n",
        "$ \\mathtt{trans}_3(\\alpha_i, \\alpha_{i+1}) \\; \\equiv \\; \\mathtt{pc}_i = 3 \\; \\wedge \\; x_{i+1} = x_i \\; \\wedge \\; y_{i+1} = y_i \\; \\wedge \\; m_{i+1} = m_i \\; \\wedge \\; n_{i+1} = n_i \\; \\wedge \\; r_{i+1} = r_i \\wedge \\mathtt{pc}_{i+1} = 3 $\n",
        "$ \\mathtt{trans}(\\alpha_i, \\alpha_{i+1}) \\; \\equiv \\; \\mathtt{trans}_0(\\alpha_i, \\alpha_{i+1}) \\wedge \\mathtt{trans}_1(\\alpha_i, \\alpha_{i+1}) \\wedge \\mathtt{trans}_2(\\alpha_i, \\alpha_i+1) \\wedge \\mathtt{trans}_3(\\alpha_i, \\alpha_{i+1})$\n"
      ],
      "metadata": {
        "id": "9RT_S4nwuc0z"
      }
    },
    {
      "cell_type": "code",
      "source": [
        "def declare(i, bits=16):\n",
        "    traco = {}\n",
        "    traco[\"x\"] = BitVec(f\"x_{i}\", bits)\n",
        "    traco[\"y\"] = BitVec(f\"y_{i}\", bits)\n",
        "    traco[\"r\"] = BitVec(f\"r_{i}\", bits)\n",
        "    traco[\"m\"] = BitVec(f\"m_{i}\", bits)\n",
        "    traco[\"n\"] = BitVec(f\"n_{i}\", bits)\n",
        "    traco[\"pc\"] = BitVec(f\"pc_{i}\", bits)\n",
        "    \n",
        "    return traco\n",
        "\n",
        "def init(traco):\n",
        "    r1 = And(traco[\"pc\"]==0)\n",
        "    r2 = And(traco[\"r\"]==0, traco[\"m\"]>=0, traco[\"n\"]>=0, traco[\"x\"]==traco[\"m\"], traco[\"y\"]==traco[\"n\"])\n",
        "    return And(r1, r2)\n",
        "\n",
        "def trans(prev, curr):\n",
        "    # Condições para pc == 0\n",
        "    cond1_pc0 = And(prev[\"pc\"]==0, prev[\"y\"]>0, curr[\"x\"]==prev[\"x\"], curr[\"y\"]==prev[\"y\"],\n",
        "                    curr[\"m\"]==prev[\"m\"], curr[\"n\"]==prev[\"n\"], curr[\"r\"]==prev[\"r\"],\n",
        "                    curr[\"pc\"]==1)\n",
        "    cond2_pc0 = And(prev[\"pc\"]==0, Not(prev[\"y\"]>0), curr[\"x\"]==prev[\"x\"], curr[\"y\"]==prev[\"y\"],\n",
        "                    curr[\"m\"]==prev[\"m\"], curr[\"n\"]==prev[\"n\"], curr[\"r\"]==prev[\"r\"],\n",
        "                    curr[\"pc\"]==3)\n",
        "    cond_pc0 = Or(cond1_pc0, cond2_pc0)\n",
        "    \n",
        "    # Condições para pc == 1\n",
        "    cond1_pc1 = And(prev[\"pc\"]==1, prev[\"y\"]&1==1, curr[\"x\"]==prev[\"x\"], curr[\"y\"]==prev[\"y\"]-1,\n",
        "                    curr[\"m\"]==prev[\"m\"], curr[\"n\"]==prev[\"n\"], curr[\"r\"]==prev[\"r\"]+prev[\"x\"],\n",
        "                    curr[\"pc\"]==2)\n",
        "    cond2_pc1 = And(prev[\"pc\"]==1, Not(prev[\"y\"]&1==1), curr[\"x\"]==prev[\"x\"], curr[\"y\"]==prev[\"y\"],\n",
        "                    curr[\"m\"]==prev[\"m\"], curr[\"n\"]==prev[\"n\"], curr[\"r\"]==prev[\"r\"],\n",
        "                    curr[\"pc\"]==2)\n",
        "    cond_pc1 = Or(cond1_pc1, cond2_pc1)\n",
        "    \n",
        "    # Condições para pc == 2\n",
        "    cond_pc2 = And(prev[\"pc\"]==2, curr[\"x\"]==prev[\"x\"]<<1, curr[\"y\"]==prev[\"y\"]>>1,\n",
        "                   curr[\"m\"]==prev[\"m\"], curr[\"n\"]==prev[\"n\"], curr[\"r\"]==prev[\"r\"],\n",
        "                   curr[\"pc\"]==0)\n",
        "    \n",
        "    # Condições para pc == 3\n",
        "    cond_pc3 = And(prev[\"pc\"]==3, curr[\"x\"]==prev[\"x\"], curr[\"y\"]==prev[\"y\"],\n",
        "                   curr[\"m\"]==prev[\"m\"], curr[\"n\"]==prev[\"n\"], curr[\"r\"]==prev[\"r\"],\n",
        "                   curr[\"pc\"]==prev[\"pc\"], Not(prev[\"y\"]>0))\n",
        "    \n",
        "    return Or(cond_pc0, cond_pc1, cond_pc2, cond_pc3)"
      ],
      "metadata": {
        "id": "nW0IfgaxyJ96"
      },
      "execution_count": 32,
      "outputs": []
    },
    {
      "cell_type": "code",
      "source": [
        "def variant(traco):\n",
        "    return traco[\"y\"]\n",
        "\n",
        "def var_positivo(traco, trans, l=3):\n",
        "    tracos = {i: declare(-i) for i in range(1, l+1)}\n",
        "    c1 = And([trans(tracos[i], tracos[i+1]) for i in range(1, l)] + [trans(traco, tracos[1])])\n",
        "    c2 = variant(tracos[l])>=0\n",
        "    r = ForAll(list(tracos[l].values()), Implies(c1, c2))\n",
        "    return r\n",
        "\n",
        "def var_decrescente(traco, trans, l=3):\n",
        "    tracos = {i: declare(-i) for i in range(1, l+1)}\n",
        "    c1 = And([trans(tracos[i], tracos[i+1]) for i in range(1, l)] + [trans(traco, tracos[1])])\n",
        "    c2 = Or(variant(tracos[l])<variant(traco), variant(tracos[l])==0)\n",
        "    r = ForAll(list(tracos[l].values()), Implies(c1, c2))\n",
        "    return r\n",
        "\n",
        "def var_util(traco, trans, l):\n",
        "    tracos = {i: declare(-i) for i in range(1, l+1)}\n",
        "    c1 = And([trans(tracos[i], tracos[i+1]) for i in range(1, l)] + [trans(traco, tracos[1])])\n",
        "    c2 = Implies(variant(tracos[l])==0, tracos[l][\"pc\"]==3)\n",
        "    r = ForAll(list(tracos[l].values()), Implies(c1, c2))\n",
        "    return r"
      ],
      "metadata": {
        "id": "Onrgv7H3ygnH"
      },
      "execution_count": 33,
      "outputs": []
    },
    {
      "cell_type": "markdown",
      "source": [
        "**Prova por Indução com Lookahead:**"
      ],
      "metadata": {
        "id": "HYBG8O3IyjWi"
      }
    },
    {
      "cell_type": "code",
      "source": [
        "bits = 16\n",
        "inducao_always(declare, init, trans, var_positivo, \"positivo\", 1, bits)\n",
        "inducao_always(declare, init, trans, var_decrescente, \"decrescente\", 3, bits)\n",
        "inducao_always(declare, init, trans, var_util, \"útil\", 4, bits)"
      ],
      "metadata": {
        "colab": {
          "base_uri": "https://localhost:8080/",
          "height": 0
        },
        "id": "MzWiLHSYymD8",
        "outputId": "497ffc59-1f4e-443b-a796-1daf9ad85d42"
      },
      "execution_count": 34,
      "outputs": [
        {
          "output_type": "stream",
          "name": "stdout",
          "text": [
            "A propriedade \"positivo\" é válida.\n",
            "A propriedade \"decrescente\" é válida.\n",
            "A propriedade \"útil\" é válida.\n"
          ]
        }
      ]
    },
    {
      "cell_type": "markdown",
      "source": [
        "##**2. Correção Total**\n",
        "###a) Forma recursiva deste programa:\n",
        "```py\n",
        "assume m >= 0 and n >= 0 and r == 0 and x == m and y == n\n",
        "0: while y > 0:\n",
        "1: if y & 1 == 1:\n",
        "y , r = y-1 , r+x\n",
        "2: x , y = x<<1 , y>>1\n",
        "3: assert r == m * n\n",
        "```\n",
        "Fazemos a desdobragem 2 vezes:\n",
        "```py\n",
        "assume m >= 0 and n >= 0 and r == 0 and x == m and y == n\n",
        "if(y > 0): (1)\n",
        "  if(y & 1 == 1): (2)\n",
        "    y1,r1 = y-1, x\n",
        "  else:\n",
        "    y1,r1 = y, r;\n",
        "  x1, y2 = x<<1, y1>>1\n",
        "\n",
        "  if(y2 > 0): (3)\n",
        "    if(y2 & 1 == 1): (4)\n",
        "      y3,r2 = y2-1, r1*x1;\n",
        "    else:\n",
        "      y3, r2 = y2, r1;\n",
        "      x2, y4 = x1 << 1, y3 >>1\n",
        "      assert not(y4>0);\n",
        "  else:\n",
        "      x2, y4, r2 == x1, y2, r1\n",
        "else:\n",
        "x2, y4, r2 == x, y, r\n",
        "assert r2 == n*m\n",
        "```\n",
        "Converter para os diferentes fluxos:\n",
        "```py\n",
        "#Não entra em (1)\n",
        "assume m >= 0 and n >= 0 and r == 0 and x == m and y == n\n",
        "assume not(y>0); x2, y4, r2 == x, y, r\n",
        "\n",
        "#Entra em todos\n",
        "assume m >= 0 and n >= 0 and r == 0 and x == m and y == n\n",
        "assume (y>0);\n",
        "assume(y & 1 == 1); y1,r1 = y-1, x;x1, y2 = x<<1, y1>>1;\n",
        "assume(y2>0);\n",
        "assume(y2 & 1 == 1);y3,r2 = y2-1, r1*x1;x2, y4 = x1 << 1, y3 >>1;assert not(y4>0);\n",
        "\n",
        "#Entra em todos exceto (4)\n",
        "assume m >= 0 and n >= 0 and r == 0 and x == m and y == n\n",
        "assume (y>0);\n",
        "assume(y & 1 == 1); y1,r1 = y-1, x;x1, y2 = x<<1, y1>>1;\n",
        "assume(y2>0);\n",
        "assume not(y2 & 1 == 1);y3,r2 = y2,r1;x2, y4 = x1 << 1, y3 >>1;assert not(y4>0);\n",
        "\n",
        "# Não entra em (3)\n",
        "assume m >= 0 and n >= 0 and r == 0 and x == m and y == n\n",
        "assume (y>0);\n",
        "assume(y & 1 == 1); y1,r1 = y-1, x;x1, y2 = x<<1, y1>>1;\n",
        "assume not(y2>0); x2, y4, r2 == x1, y2, r1\n",
        "\n",
        "#Entra em (1) mas falha em (2) e (3)\n",
        "assume m >= 0 and n >= 0 and r == 0 and x == m and y == n\n",
        "assume (y>0);\n",
        "assume not(y & 1 == 1); y1,r1 = y, r; x1, y2 = x<<1, y1>>1;\n",
        "assume not(y2>0);x2, y4, r2 == x1, y2, r1\n",
        "\n",
        "#Entra em (1),falha em (2), mas entra em (3) e (4)\n",
        "assume m >= 0 and n >= 0 and r == 0 and x == m and y == n\n",
        "assume (y>0);\n",
        "assume not(y & 1 == 1); y1,r1 = y, r; x1, y2 = x<<1, y1>>1;\n",
        "assume(y2>0);\n",
        "assume(y2 & 1 == 1);y3,r2 = y2-1, r1*x1;x2, y4 = x1 << 1, y3 >>1;assert not(y4>0);\n",
        "\n",
        "#Entra em (1),falha em (2),entra em (3) e falha (4)\n",
        "\n",
        "assume m >= 0 and n >= 0 and r == 0 and x == m and y == n\n",
        "assume (y>0);\n",
        "assume not(y & 1 == 1); y1,r1 = y, r ; x1, y2 = x<<1, y1>>1;\n",
        "assume(y2>0);\n",
        "assume not(y2 & 1 == 1);y3, r2 = y2, r1;x2, y4 = x1 << 1, y3 >>1;assert not(y4>0)\n",
        ");\n",
        "assert r2 == n*m\n",
        "```\n",
        "###b)Invariante e correção\n",
        "Começamos por definir as pré e pós condições, assim como o invariante do ciclo.\n",
        "\n",
        "$ [\\mathtt{P}] \\; \\equiv \\; \\phi \\to \\theta \\wedge \\forall \\vec{x}. \\, (\\,(b \\wedge \\theta \\to [C\\;; {\\sf assert}\\; \\theta ]) \\wedge (\\neg b \\wedge \\theta \\to \\psi )\\,)$\n",
        "\n",
        "$ \\phi \\; \\equiv  \\; m  \\ge 0  \\;  \\wedge  \\; n  \\ge 0  \\;  \\wedge  \\; x = m  \\;  \\wedge  \\; y = n  \\;  \\wedge  \\; r = 0 $\n",
        "\n",
        "$  \\theta  \\;  \\equiv  \\; y  \\ge 0  \\;  \\wedge  \\; x  \\cdot y + r = m  \\cdot n $\n",
        "\n",
        "$ b  \\;  \\equiv  \\; y > 0 $\n",
        "\n",
        "$  \\psi  \\;  \\equiv  \\; r = m  \\cdot n $\n",
        "\n",
        "$ f  \\;  \\equiv  \\; y  \\& 1 = 1 $\n",
        "\n",
        "$ [C \\;; { \\sf assert} \\;  \\theta ]  \\; \n",
        "\\equiv  \\; [ (C_1||C_2) ;{ \\sf assert} \\; \\theta ] = [C_1 \\;; { \\sf assert} \\;  \\theta ]  \\;  \\wedge  \\; [C_2 \\;; { \\sf assert} \\;  \\theta ] =  \\big( f  \\to  \\theta[x/x \\gg1][y/(y-1) \\ll1][r/r+x]  \\big)  \\;  \\wedge  \\;  \\big(  \\neg f  \\to  \\theta[x/x \\gg1][y/ \\ll1]  \\big) $\n",
        "\n",
        "Procedemos à sua correção através do método **`Havoc`**."
      ],
      "metadata": {
        "id": "MDBciuiG29_C"
      }
    },
    {
      "cell_type": "code",
      "source": [
        "def havoc(bits=16):\n",
        "    m, n, r, x, y = BitVecs(\"m n r x y\", bits)\n",
        "\n",
        "    pre = And(m >= 0, n >= 0, r == 0, x == m, y == n)\n",
        "    pos = r == m * n\n",
        "    inv = And(y >= 0, x*y+r == m*n)\n",
        "    b = y > 0\n",
        "    if_cond = y & 1 == 1\n",
        "\n",
        "    cycle1 = Implies(if_cond, substitute(substitute(substitute(inv, (x, x<<1)), (y, (y-1)>>1)), (r, r+x)))\n",
        "    cycle2 = Implies(Not(if_cond), substitute(substitute(inv, (x, x<<1)), (y, y>>1)))\n",
        "\n",
        "    start = inv\n",
        "    cycle = ForAll([x, y, r], Implies(And(b, inv), And(cycle1, cycle2)))\n",
        "    end = Implies(And(Not(b), inv), pos)\n",
        "\n",
        "    prove(Implies(pre, And(start, cycle, end)))"
      ],
      "metadata": {
        "id": "9DLVbQhqvKma"
      },
      "execution_count": 35,
      "outputs": []
    },
    {
      "cell_type": "code",
      "source": [
        "bits = 16\n",
        "havoc(bits)"
      ],
      "metadata": {
        "colab": {
          "base_uri": "https://localhost:8080/",
          "height": 0
        },
        "id": "IuUX0gKkwBeL",
        "outputId": "561e1dac-629e-40bc-d6e9-af4254346b90"
      },
      "execution_count": 37,
      "outputs": [
        {
          "output_type": "stream",
          "name": "stdout",
          "text": [
            "proved\n"
          ]
        }
      ]
    },
    {
      "cell_type": "markdown",
      "source": [
        "###c) Definição iterativa com Unfold\n",
        "\n",
        "Cada corpo do ciclo que é executado deste programa faz a variável $\\;y\\;$ ser pelo menos dividida por dois $\\; y'<=y/2 \\;$, logo, o programa termina após o maior valor que $\\;y\\;$ pode tomar ser dividido vezes suficientes para ser lhe ser atribuído um valor inferior a 1. Seja $\\;N\\;$ o número de vezes que o corpo do ciclo deve ser executado para terminar: \n",
        "$$  \\frac{ \\left| y \\right|_{\\mathtt{maj}} }{ 2^{ \\left| N \\right|_{\\mathtt{min}} } } \\le 1 \\Leftrightarrow 2^{\\left| N \\right|_{\\mathtt{min}}} \\ge \\left| y \\right|_{\\mathtt{maj}} $$\n",
        "Neste programa o maior valor que  pode tomar é $\\;2^{n-1}$\n",
        ", sendo $\\;n\\;$ o número de bits da variável. Logo:\n",
        "$$ 2^{ \\left| N \\right|_{\\mathtt{min}} } \\ge 2^{n-1} \\Leftrightarrow \\left| N \\right|_{\\mathtt{min}} \\ge n-1 , \\; N \\in \\mathbb{Z} \\Rightarrow \\boxed{ \\left| N \\right|_{\\mathtt{min}} = n } $$  \n",
        "Utilizando então a estratégia unfold, aproveitando a definição do FOTS acima utilizado, onde o traço deste irá conter a evolução das variáveis  do programa:\n",
        "$$\\mathtt{unfold}(n) \\; \\equiv \\; \\phi[v/\\alpha_0] \\; \\wedge \\; \\bigwedge_{i=0}^{3n-2} \\mathtt{trans}(\\alpha_i, \\alpha_{i+1}) \\; \\wedge \\; \\bigwedge_{i=0}^{3n-1} b[v/\\alpha_{3i}] \\; \\wedge \\; \\psi[v/\\alpha_{3n-1}] $$\n",
        "Então pode-se provar o `unfold` a negar  na expressão anterior, e verificar que o resultado dessa expressão lógica é `unsat`.  \n",
        "\n",
        "Adicionamos ainda à pré-condição $(n < N)\\,\\land\\,(m<N)$, em que, o número de iterações é $N$."
      ],
      "metadata": {
        "id": "m3fcIHEcvLeb"
      }
    },
    {
      "cell_type": "markdown",
      "source": [
        "####**Implementação unfold**"
      ],
      "metadata": {
        "id": "j_SpaGb84ABG"
      }
    },
    {
      "cell_type": "code",
      "source": [
        "def pre(traco):\n",
        "    r1 = And(traco[\"m\"]>=0, traco[\"n\"]>=0)\n",
        "    r2 = And(traco[\"y\"]==traco[\"n\"], traco[\"x\"]==traco[\"m\"], traco[\"r\"]==0)\n",
        "    r3 = And(traco[\"n\"]<N, traco[\"m\"]<N)\n",
        "    return And(r1, r2)\n",
        "\n",
        "pos = lambda traco: traco[\"r\"] == traco[\"m\"]*traco[\"n\"]\n",
        "b = lambda traco: traco[\"y\"] > 0\n",
        "\n",
        "def bmc_unfold(declare, trans, pre, b, pos, n, bits=16):\n",
        "    n = 3 * n\n",
        "    traco = {i: declare(i, bits) for i in range(n)}\n",
        "    solver = Solver()\n",
        "    solver.add(pre(traco[0]))\n",
        "    for i in range(n-1):\n",
        "        if i % 3 == 0:\n",
        "            solver.add(b(traco[i]))\n",
        "        solver.add(trans(traco[i], traco[i+1]))\n",
        "    solver.add(Not(pos(traco[n-1])))\n",
        "    \n",
        "    if solver.check() == sat:\n",
        "        print(\"O programa está incorreto.\")\n",
        "        m = solver.model()\n",
        "        \n",
        "        for v in traco[0]:\n",
        "            print(v, \"=\", m[traco[0][v]])\n",
        "    else:\n",
        "        print(\"O programa está correto.\")"
      ],
      "metadata": {
        "id": "oFGf9Sfx3fU_"
      },
      "execution_count": 38,
      "outputs": []
    },
    {
      "cell_type": "markdown",
      "source": [
        "####**Prova unfold**\n"
      ],
      "metadata": {
        "id": "tt39cp0O4LPD"
      }
    },
    {
      "cell_type": "code",
      "source": [
        "N, bits = 16, 16\n",
        "bmc_unfold(declare, trans, pre, b, pos, N, bits)"
      ],
      "metadata": {
        "colab": {
          "base_uri": "https://localhost:8080/",
          "height": 0
        },
        "id": "YhHSJ6zI4Qdj",
        "outputId": "e8b434c9-a5ae-4a0c-bd07-7bd380c44c82"
      },
      "execution_count": 41,
      "outputs": [
        {
          "output_type": "stream",
          "name": "stdout",
          "text": [
            "O programa está correto.\n"
          ]
        }
      ]
    }
  ]
}