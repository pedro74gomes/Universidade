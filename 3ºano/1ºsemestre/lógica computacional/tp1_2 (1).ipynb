{
  "nbformat": 4,
  "nbformat_minor": 0,
  "metadata": {
    "colab": {
      "name": "tp1_2.ipynb",
      "provenance": [],
      "collapsed_sections": []
    },
    "kernelspec": {
      "name": "python3",
      "display_name": "Python 3"
    },
    "language_info": {
      "name": "python"
    }
  },
  "cells": [
    {
      "cell_type": "markdown",
      "metadata": {
        "id": "xEW5WaRG_oYA"
      },
      "source": [
        "#2. Sudoku\n",
        "***Trabalho 1  \n",
        "Pedro Gomes a91647  \n",
        "Francisco Teófilo a93741***\n"
      ]
    },
    {
      "cell_type": "markdown",
      "metadata": {
        "id": "fdJl_w8XN8mH"
      },
      "source": [
        "  Utilizamos a biblioteca OR-Tools para fazer a interface para o SCIP e será utilizada para o `solver`.   \n",
        "  Esta biblioteca pode ser instalada com o comando `pip install ortools`.   "
      ]
    },
    {
      "cell_type": "code",
      "metadata": {
        "colab": {
          "base_uri": "https://localhost:8080/",
          "height": 0
        },
        "id": "i-MMXmcg1bYN",
        "outputId": "ff33526c-3582-462a-9dff-dfd5098d6bd8"
      },
      "source": [
        "!pip3 install ortools"
      ],
      "execution_count": 11,
      "outputs": [
        {
          "output_type": "stream",
          "name": "stdout",
          "text": [
            "Requirement already satisfied: ortools in /usr/local/lib/python3.7/dist-packages (9.1.9490)\n",
            "Requirement already satisfied: absl-py>=0.13 in /usr/local/lib/python3.7/dist-packages (from ortools) (0.15.0)\n",
            "Requirement already satisfied: protobuf>=3.18.0 in /usr/local/lib/python3.7/dist-packages (from ortools) (3.19.0)\n",
            "Requirement already satisfied: six in /usr/local/lib/python3.7/dist-packages (from absl-py>=0.13->ortools) (1.15.0)\n"
          ]
        }
      ]
    },
    {
      "cell_type": "markdown",
      "metadata": {
        "id": "nhj46MsCOvOY"
      },
      "source": [
        "A grelha é a representação em matriz da tabela do **Sudoku**.  \n",
        "Contém os parâmetros **$N$** (dimensão da tabela) e **$α$** (fração das casas da grelha que são preenchidas).   "
      ]
    },
    {
      "cell_type": "code",
      "metadata": {
        "id": "SvQF1XLcOuEu"
      },
      "source": [
        "grelha = [\n",
        "    [8,0,0,0,0,0,0,0,0],\n",
        "    [0,0,3,6,0,0,0,0,0],\n",
        "    [0,7,0,0,9,0,2,0,0],\n",
        "    [0,5,0,0,0,7,0,0,0],\n",
        "    [0,0,0,0,4,5,7,0,0],\n",
        "    [0,0,0,1,0,0,0,3,0],\n",
        "    [0,0,1,0,0,0,0,6,8],\n",
        "    [0,0,8,5,0,0,0,1,0],\n",
        "    [0,9,0,0,0,0,4,0,0]\n",
        "]\n",
        "\n",
        "n = 3\n",
        "# α = 25.9%"
      ],
      "execution_count": 12,
      "outputs": []
    },
    {
      "cell_type": "markdown",
      "metadata": {
        "id": "q4jkufcbRahk"
      },
      "source": [
        "Definimos as funções: `valid`,  `print_grelha`,  `find_empty` e `solve`.\n",
        "\n",
        "A Função `valid` testa se é válido colocar um número em determinada posição da grelha, seguindo a ordem de teste *linhas* depois  *colunas* e por fim nos quadrados $n*n$. Será utilizada pela função `solve`.   "
      ]
    },
    {
      "cell_type": "code",
      "metadata": {
        "id": "nOD1vooqShVA"
      },
      "source": [
        "def valid(g, num, pos):\n",
        "    # Check linha\n",
        "    for i in range(len(g[0])):\n",
        "        if g[pos[0]][i] == num and pos[1] != i:\n",
        "            return False\n",
        "\n",
        "    # Check coluna\n",
        "    for i in range(len(g)):\n",
        "        if g[i][pos[1]] == num and pos[0] != i:\n",
        "            return False\n",
        "\n",
        "    # Check gx\n",
        "    gx_x = pos[1] // n\n",
        "    gx_y = pos[0] // n\n",
        "\n",
        "    for i in range(gx_y*n, gx_y*n + n):\n",
        "        for j in range(gx_x * n, gx_x*n + n):\n",
        "            if g[i][j] == num and (i,j) != pos:\n",
        "                return False\n",
        "\n",
        "    return True"
      ],
      "execution_count": 13,
      "outputs": []
    },
    {
      "cell_type": "markdown",
      "metadata": {
        "id": "SKRIHWPKVe_Y"
      },
      "source": [
        "A função `print_grelha` tem como objetivo a apresentação mais semelhante e organizada, da grelha de sudoku, como a conhecemos."
      ]
    },
    {
      "cell_type": "code",
      "metadata": {
        "id": "M28TOEwG_cCD"
      },
      "source": [
        "def print_grelha(g):\n",
        "    for i in range(len(g)):\n",
        "        if i % n == 0 and i != 0:\n",
        "            print(\"- - - - - - - - - - - -\")\n",
        "\n",
        "        for j in range(len(g[0])):\n",
        "            if j % n == 0 and j != 0:\n",
        "                print(\" | \", end=\"\")\n",
        "\n",
        "            if j == (n*n)-1:\n",
        "                print(g[i][j])\n",
        "            else:\n",
        "                print(str(g[i][j]) + \" \", end=\"\")"
      ],
      "execution_count": 14,
      "outputs": []
    },
    {
      "cell_type": "markdown",
      "metadata": {
        "id": "DpyRiT0BWhW3"
      },
      "source": [
        "A Função `find_empty` é utilizada para encontrar as posições vazias da grelha (==0) e será chamada na função `solve`."
      ]
    },
    {
      "cell_type": "code",
      "metadata": {
        "id": "tMFIevB9WgqW"
      },
      "source": [
        "def find_empty(g):\n",
        "    for i in range(len(g)):\n",
        "        for j in range(len(g[0])):\n",
        "            if g[i][j] == 0:\n",
        "                return (i, j)  # linha, coluna\n",
        "\n",
        "    return None"
      ],
      "execution_count": 15,
      "outputs": []
    },
    {
      "cell_type": "markdown",
      "metadata": {
        "id": "77YE-jQJUYeC"
      },
      "source": [
        "A função `solve` tem como objetivo executar a resolução da grelha do sudoku proposta, utilizando as funções anteriormente definidas. \n",
        "Apresentamos a grelha inicial (por preencher) e a grelha final (resolvida)."
      ]
    },
    {
      "cell_type": "code",
      "metadata": {
        "colab": {
          "base_uri": "https://localhost:8080/",
          "height": 0
        },
        "id": "KEpVTyl1S6L4",
        "outputId": "666958c8-eaa9-4b22-e6ba-a70353c46fa9"
      },
      "source": [
        "print_grelha(grelha) # grelha inicial\n",
        "print(\"_______________________\\n\")\n",
        "\n",
        "def solve(g):\n",
        "    find = find_empty(g)\n",
        "    if not find:\n",
        "        return True\n",
        "    else:\n",
        "        linha, coluna = find\n",
        "\n",
        "    for i in range(1,(n*n)+1):\n",
        "        if valid(g, i, (linha, coluna)):\n",
        "            g[linha][coluna] = i\n",
        "\n",
        "            if solve(g):\n",
        "                return True\n",
        "\n",
        "            g[linha][coluna] = 0\n",
        "\n",
        "    return False\n",
        "\n",
        "# Importar biblioteca\n",
        "from ortools.linear_solver import pywraplp\n",
        "# Criar instância do solver\n",
        "solver = pywraplp.Solver.CreateSolver('SCIP')\n",
        "# Invocar o solver\n",
        "status = solver.Solve()\n",
        "if status == pywraplp.Solver.OPTIMAL:\n",
        "  solve(grelha)\n",
        "\n",
        "print_grelha(grelha)"
      ],
      "execution_count": 16,
      "outputs": [
        {
          "output_type": "stream",
          "name": "stdout",
          "text": [
            "8 0 0  | 0 0 0  | 0 0 0\n",
            "0 0 3  | 6 0 0  | 0 0 0\n",
            "0 7 0  | 0 9 0  | 2 0 0\n",
            "- - - - - - - - - - - -\n",
            "0 5 0  | 0 0 7  | 0 0 0\n",
            "0 0 0  | 0 4 5  | 7 0 0\n",
            "0 0 0  | 1 0 0  | 0 3 0\n",
            "- - - - - - - - - - - -\n",
            "0 0 1  | 0 0 0  | 0 6 8\n",
            "0 0 8  | 5 0 0  | 0 1 0\n",
            "0 9 0  | 0 0 0  | 4 0 0\n",
            "_______________________\n",
            "\n",
            "8 1 2  | 7 5 3  | 6 4 9\n",
            "9 4 3  | 6 8 2  | 1 7 5\n",
            "6 7 5  | 4 9 1  | 2 8 3\n",
            "- - - - - - - - - - - -\n",
            "1 5 4  | 2 3 7  | 8 9 6\n",
            "3 6 9  | 8 4 5  | 7 2 1\n",
            "2 8 7  | 1 6 9  | 5 3 4\n",
            "- - - - - - - - - - - -\n",
            "5 2 1  | 9 7 4  | 3 6 8\n",
            "4 3 8  | 5 2 6  | 9 1 7\n",
            "7 9 6  | 3 1 8  | 4 5 2\n"
          ]
        }
      ]
    },
    {
      "cell_type": "markdown",
      "metadata": {
        "id": "detLKnv6aDui"
      },
      "source": [
        "Utilizamos $N = 3$, $ N \\in \\{3,4,5,6\\}$ e $α$ = 0.2, $α \\in \\{0.0,0.2,0.4,0.6\\} $  \n",
        "O programa funciona para qualquer $α \\ge 0.2$, uma vez que é o valor mínimo de espaços da grelha preenchidos possíveis para o sudoku ser resolvido.   \n",
        "Para cada índice não atribuído, há 9 opções possibilidades de atribuição, portanto, a complexidade de tempo no pior caso do solucionador do sudoku é exponencial $O (9^{(n * n)})$. "
      ]
    }
  ]
}